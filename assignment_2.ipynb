{
 "cells": [
  {
   "cell_type": "code",
   "execution_count": 1,
   "id": "6f054891-851e-44cc-a1b0-d7a1b5a98400",
   "metadata": {},
   "outputs": [],
   "source": [
    "#Assignment 2"
   ]
  },
  {
   "cell_type": "code",
   "execution_count": 2,
   "id": "58490474-ad2e-403b-b37b-2a66148f9f1f",
   "metadata": {},
   "outputs": [
    {
     "name": "stdout",
     "output_type": "stream",
     "text": [
      "10 5\n",
      "5 10\n"
     ]
    }
   ],
   "source": [
    "#1\n",
    "x = 10\n",
    "y = 5\n",
    "\n",
    "print(x,y)\n",
    "x, y =  y, x\n",
    "print(x,y)"
   ]
  },
  {
   "cell_type": "code",
   "execution_count": 3,
   "id": "ff78c7e1-47b3-4314-8277-fd372377fe70",
   "metadata": {},
   "outputs": [
    {
     "name": "stdout",
     "output_type": "stream",
     "text": [
      "50\n"
     ]
    }
   ],
   "source": [
    "#2\n",
    "x = 10\n",
    "y = 5\n",
    "\n",
    "rect_area = x * y\n",
    "\n",
    "print(rect_area)"
   ]
  },
  {
   "cell_type": "code",
   "execution_count": 8,
   "id": "4ccfe2fc-6851-45d5-9f12-eed7e3c5572c",
   "metadata": {},
   "outputs": [
    {
     "name": "stdin",
     "output_type": "stream",
     "text": [
      "Fahrenheit is:  36\n"
     ]
    },
    {
     "name": "stdout",
     "output_type": "stream",
     "text": [
      "Celsius:  2.2222222222222223\n"
     ]
    }
   ],
   "source": [
    "#3\n",
    "F = float(input('Fahrenheit is: '))\n",
    "C = (F-32)*5/9\n",
    "\n",
    "print('Celsius: ',C)\n",
    "\n"
   ]
  },
  {
   "cell_type": "code",
   "execution_count": 13,
   "id": "190a74dc-666f-4a95-a2da-a222c07f05bb",
   "metadata": {},
   "outputs": [
    {
     "name": "stdout",
     "output_type": "stream",
     "text": [
      "33.510321638291124\n"
     ]
    }
   ],
   "source": [
    "#4\n",
    "import math\n",
    "r = 2\n",
    "pi = math.pi\n",
    "\n",
    "vol_sphr = 4/3 *(pi * r**3)\n",
    "\n",
    "print(vol_sphr)"
   ]
  },
  {
   "cell_type": "code",
   "execution_count": 18,
   "id": "b13c7a26-2a32-4d49-b9e7-a7e7091f6489",
   "metadata": {},
   "outputs": [
    {
     "name": "stdout",
     "output_type": "stream",
     "text": [
      "4.666666666666667\n"
     ]
    }
   ],
   "source": [
    "#5\n",
    "x = 8\n",
    "y = 4\n",
    "z = 2\n",
    "\n",
    "avg = (x+y+z)/3\n",
    "print(avg)"
   ]
  },
  {
   "cell_type": "code",
   "execution_count": 20,
   "id": "05210f22-90ec-400d-98f7-427e6a3e57fb",
   "metadata": {},
   "outputs": [
    {
     "name": "stdin",
     "output_type": "stream",
     "text": [
      "provide a value:  6\n"
     ]
    },
    {
     "name": "stdout",
     "output_type": "stream",
     "text": [
      "even\n"
     ]
    }
   ],
   "source": [
    "#6\n",
    "n = int(input('provide a value: '))\n",
    "\n",
    "if n % 2 == 0:\n",
    "    print('even')\n",
    "else:\n",
    "    print('odd')"
   ]
  },
  {
   "cell_type": "code",
   "execution_count": 21,
   "id": "35b5b60c-83d6-44ef-a4bd-611ade3d23b9",
   "metadata": {},
   "outputs": [
    {
     "name": "stdout",
     "output_type": "stream",
     "text": [
      "Maximum of 3:  10\n"
     ]
    }
   ],
   "source": [
    "#7\n",
    "x = 10\n",
    "y = 8\n",
    "z = 5\n",
    "\n",
    "max_num = x\n",
    "if y > max_num:\n",
    "    max_num = y\n",
    "if z > max_num:\n",
    "    max_num = z\n",
    "\n",
    "print('Maximum of 3: ', max_num)"
   ]
  },
  {
   "cell_type": "code",
   "execution_count": 27,
   "id": "e55f5caa-e04f-4aee-8895-375f5665f4a0",
   "metadata": {},
   "outputs": [
    {
     "name": "stdin",
     "output_type": "stream",
     "text": [
      "put an year:  2028\n"
     ]
    },
    {
     "name": "stdout",
     "output_type": "stream",
     "text": [
      "2028 is a leap year: \n"
     ]
    }
   ],
   "source": [
    "#8\n",
    "\n",
    "year = int(input('put an year: '))\n",
    "\n",
    "if year % 400 == 0 or year % 100!=0 and year % 4 == 0:\n",
    "    print(year,'is a leap year: ')\n",
    "else:\n",
    "    print('Not a leap year')\n"
   ]
  },
  {
   "cell_type": "code",
   "execution_count": 32,
   "id": "d101341b-e5b8-4cad-bcaf-e4879a2712a9",
   "metadata": {},
   "outputs": [
    {
     "name": "stdin",
     "output_type": "stream",
     "text": [
      "Enter a number:  5\n"
     ]
    },
    {
     "name": "stdout",
     "output_type": "stream",
     "text": [
      "positive\n"
     ]
    }
   ],
   "source": [
    "#9\n",
    "number = float(input(\"Enter a number: \"))\n",
    "\n",
    "if number > 0:\n",
    "    print('positive')\n",
    "elif number < 0:\n",
    "    print('negative')\n",
    "else:\n",
    "    print('it is zero')"
   ]
  },
  {
   "cell_type": "code",
   "execution_count": 33,
   "id": "fd8c3472-b574-49c8-9a3f-41b3af6719e1",
   "metadata": {},
   "outputs": [
    {
     "name": "stdin",
     "output_type": "stream",
     "text": [
      "Enter the percentage:  50\n"
     ]
    },
    {
     "name": "stdout",
     "output_type": "stream",
     "text": [
      "The grade for a percentage of 50.0 is: E\n"
     ]
    }
   ],
   "source": [
    "#10\n",
    "percentage = float(input(\"Enter the percentage: \"))\n",
    "\n",
    "if percentage >= 90:\n",
    "    grade = 'A'\n",
    "elif percentage >= 80:\n",
    "    grade = 'B'\n",
    "elif percentage >= 70:\n",
    "    grade = 'C'\n",
    "elif percentage >= 60:\n",
    "    grade = 'D'\n",
    "elif percentage >= 50:\n",
    "    grade = 'E'\n",
    "else:\n",
    "    grade = 'F'\n",
    "\n",
    "print(f\"The grade for a percentage of {percentage} is: {grade}\")"
   ]
  },
  {
   "cell_type": "code",
   "execution_count": 34,
   "id": "4ddd31ad-f530-4580-adfd-400a8c6e055c",
   "metadata": {},
   "outputs": [
    {
     "name": "stdin",
     "output_type": "stream",
     "text": [
      "Enter a positive integer:  7\n"
     ]
    },
    {
     "name": "stdout",
     "output_type": "stream",
     "text": [
      "1\n",
      "2\n",
      "3\n",
      "4\n",
      "5\n",
      "6\n",
      "7\n"
     ]
    }
   ],
   "source": [
    "#11\n",
    "n = int(input(\"Enter a positive integer: \"))\n",
    "\n",
    "for i in range(1, n+1): # as in range n-1 always\n",
    "        print(i)"
   ]
  },
  {
   "cell_type": "code",
   "execution_count": 47,
   "id": "987c9e9f-c617-41ed-b87a-abc0016f64f7",
   "metadata": {},
   "outputs": [
    {
     "name": "stdin",
     "output_type": "stream",
     "text": [
      "Enter an integer:  5\n"
     ]
    },
    {
     "name": "stdout",
     "output_type": "stream",
     "text": [
      "20\n",
      "60\n",
      "120\n",
      "120\n"
     ]
    }
   ],
   "source": [
    "#12\n",
    "f = int(input(\"Enter an integer: \"))\n",
    "for i in range(f-1, 1, -1):\n",
    "    f=f*i\n",
    "    print(f)\n",
    "print(f)"
   ]
  },
  {
   "cell_type": "code",
   "execution_count": 50,
   "id": "dd5ae996-f276-4b21-9b71-f31d45326c55",
   "metadata": {},
   "outputs": [
    {
     "name": "stdin",
     "output_type": "stream",
     "text": [
      "Enter the length of the Fibonacci sequence:  5\n"
     ]
    },
    {
     "name": "stdout",
     "output_type": "stream",
     "text": [
      "fibonacci number of: 5  is:  [0, 1, 1, 2, 3]\n"
     ]
    }
   ],
   "source": [
    "#13\n",
    "n = int(input(\"Enter the length of the Fibonacci sequence: \"))\n",
    "\n",
    "fib_seq = []\n",
    "\n",
    "if n >= 1: \n",
    "    fib_seq.append(0)\n",
    "if n >= 2:\n",
    "    fib_seq.append(1)\n",
    "\n",
    "for i in range(2,n):\n",
    "    next_fib = fib_seq[-1] + fib_seq[-2]\n",
    "    fib_seq.append(next_fib)\n",
    "print('fibonacci number of:',n,' is: ',fib_seq)"
   ]
  },
  {
   "cell_type": "code",
   "execution_count": 65,
   "id": "1efd574f-10df-4a24-9ede-be6dcdcb69e5",
   "metadata": {},
   "outputs": [
    {
     "name": "stdin",
     "output_type": "stream",
     "text": [
      "Enter the number:  7\n"
     ]
    },
    {
     "name": "stdout",
     "output_type": "stream",
     "text": [
      "prime: 7\n"
     ]
    }
   ],
   "source": [
    "#14\n",
    "n = int(input(\"Enter the number: \"))\n",
    "\n",
    "for i in range(2, int(n**0.5) + 1):\n",
    "    if n % i == 0:\n",
    "        break\n",
    "else:\n",
    "    print('prime:', n)\n"
   ]
  },
  {
   "cell_type": "code",
   "execution_count": 64,
   "id": "53318bc6-c2d4-44be-b999-65b678391381",
   "metadata": {},
   "outputs": [
    {
     "name": "stdin",
     "output_type": "stream",
     "text": [
      "Enter a number to print its multiplication table:  5\n"
     ]
    },
    {
     "name": "stdout",
     "output_type": "stream",
     "text": [
      "Multiplication Table of 5:\n",
      "5 x 1 = 5\n",
      "5 x 2 = 10\n",
      "5 x 3 = 15\n",
      "5 x 4 = 20\n",
      "5 x 5 = 25\n",
      "5 x 6 = 30\n",
      "5 x 7 = 35\n",
      "5 x 8 = 40\n",
      "5 x 9 = 45\n",
      "5 x 10 = 50\n"
     ]
    }
   ],
   "source": [
    "#15\n",
    "number = int(input(\"Enter a number to print its multiplication table: \"))\n",
    "\n",
    "print(f\"Multiplication Table of {number}:\")\n",
    "\n",
    "for i in range(1, 11):\n",
    "    print(f\"{number} x {i} = {number * i}\")"
   ]
  },
  {
   "cell_type": "code",
   "execution_count": 69,
   "id": "1d4c313e-fc9c-4512-8182-f78618d7dd5d",
   "metadata": {},
   "outputs": [
    {
     "name": "stdin",
     "output_type": "stream",
     "text": [
      "Enter the number:  6\n"
     ]
    },
    {
     "name": "stdout",
     "output_type": "stream",
     "text": [
      "0\n",
      "2\n",
      "6\n",
      "12\n",
      "Total sum of even numbers: 12\n"
     ]
    }
   ],
   "source": [
    "#16\n",
    "n = int(input(\"Enter the number: \"))\n",
    "\n",
    "sum = 0\n",
    "\n",
    "for i in range(0, n+1):\n",
    "    if i % 2 == 0:\n",
    "        sum += i\n",
    "        print(sum)\n",
    "\n",
    "print(\"Total sum of even numbers:\", sum)"
   ]
  },
  {
   "cell_type": "code",
   "execution_count": 77,
   "id": "ae37de09-14f2-44bd-b168-4f1cc92af37b",
   "metadata": {},
   "outputs": [
    {
     "name": "stdin",
     "output_type": "stream",
     "text": [
      "Enter the number:  45435\n"
     ]
    },
    {
     "name": "stdout",
     "output_type": "stream",
     "text": [
      "53454\n"
     ]
    }
   ],
   "source": [
    "#17\n",
    "n = int(input(\"Enter the number: \"))\n",
    "\n",
    "rev_num = 0\n",
    "num_digits = len(str(n))\n",
    "for _ in range(num_digits):\n",
    "    remainder = n % 10\n",
    "    rev_num = (rev_num * 10) + remainder\n",
    "    n = n // 10\n",
    "    if n == 0:\n",
    "        break\n",
    "print(rev_num)"
   ]
  },
  {
   "cell_type": "code",
   "execution_count": null,
   "id": "c0e3d2ce-f967-4c13-b935-4dde2273ec54",
   "metadata": {},
   "outputs": [],
   "source": [
    "#18\n",
    "\n"
   ]
  }
 ],
 "metadata": {
  "kernelspec": {
   "display_name": "Python 3 (ipykernel)",
   "language": "python",
   "name": "python3"
  },
  "language_info": {
   "codemirror_mode": {
    "name": "ipython",
    "version": 3
   },
   "file_extension": ".py",
   "mimetype": "text/x-python",
   "name": "python",
   "nbconvert_exporter": "python",
   "pygments_lexer": "ipython3",
   "version": "3.12.4"
  }
 },
 "nbformat": 4,
 "nbformat_minor": 5
}
